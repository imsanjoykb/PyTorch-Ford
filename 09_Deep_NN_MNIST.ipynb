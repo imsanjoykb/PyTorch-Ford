{
 "cells": [
  {
   "cell_type": "code",
   "execution_count": 1,
   "metadata": {},
   "outputs": [
    {
     "data": {
      "text/plain": [
       "<torch._C.Generator at 0x1bc001b60f0>"
      ]
     },
     "execution_count": 1,
     "metadata": {},
     "output_type": "execute_result"
    }
   ],
   "source": [
    "import torch\n",
    "import torch.nn.init\n",
    "from torch.autograd import Variable\n",
    "\n",
    "import torchvision.utils as utils\n",
    "import torchvision.datasets as dsets\n",
    "import torchvision.transforms as transforms\n",
    "\n",
    "import matplotlib.pyplot as plt\n",
    "import numpy as np\n",
    "import random\n",
    "torch.manual_seed(9)"
   ]
  },
  {
   "cell_type": "markdown",
   "metadata": {},
   "source": [
    "## Loading dataset"
   ]
  },
  {
   "cell_type": "code",
   "execution_count": 2,
   "metadata": {},
   "outputs": [],
   "source": [
    "mnist_train = dsets.MNIST(root='data/',\n",
    "                         train=True,\n",
    "                         transform = transforms.ToTensor(),\n",
    "                         download=True)\n",
    "\n",
    "mnist_test = dsets.MNIST(root='data/',\n",
    "                        train=False,\n",
    "                        transform=transforms.ToTensor(),\n",
    "                        download=True)\n",
    "\n",
    "batch_size = 100\n",
    "\n",
    "data_loader =  torch.utils.data.DataLoader(dataset=mnist_train,\n",
    "                                          batch_size=batch_size,\n",
    "                                          shuffle=True,\n",
    "                                          num_workers=1)"
   ]
  },
  {
   "cell_type": "markdown",
   "metadata": {},
   "source": [
    "## Deep Neural Network Model"
   ]
  },
  {
   "cell_type": "code",
   "execution_count": 3,
   "metadata": {},
   "outputs": [
    {
     "name": "stdout",
     "output_type": "stream",
     "text": [
      "Sequential(\n",
      "  (0): Linear(in_features=784, out_features=512, bias=True)\n",
      "  (1): ReLU()\n",
      "  (2): Linear(in_features=512, out_features=512, bias=True)\n",
      "  (3): ReLU()\n",
      "  (4): Linear(in_features=512, out_features=512, bias=True)\n",
      "  (5): ReLU()\n",
      "  (6): Linear(in_features=512, out_features=512, bias=True)\n",
      "  (7): ReLU()\n",
      "  (8): Linear(in_features=512, out_features=256, bias=True)\n",
      "  (9): ReLU()\n",
      "  (10): Linear(in_features=256, out_features=128, bias=True)\n",
      "  (11): ReLU()\n",
      "  (12): Linear(in_features=128, out_features=10, bias=True)\n",
      "  (13): ReLU()\n",
      ")\n"
     ]
    }
   ],
   "source": [
    "linear1 = torch.nn.Linear(784, 512, bias=True)\n",
    "linear2 = torch.nn.Linear(512, 512, bias=True)\n",
    "linear3 = torch.nn.Linear(512, 512, bias=True)\n",
    "linear4 = torch.nn.Linear(512, 512, bias=True)\n",
    "linear5 = torch.nn.Linear(512, 256, bias=True)\n",
    "linear6 = torch.nn.Linear(256, 128, bias=True)\n",
    "linear7 = torch.nn.Linear(128, 10, bias=True)\n",
    "relu = torch.nn.ReLU()\n",
    "\n",
    "model = torch.nn.Sequential(linear1, relu,\n",
    "                           linear2, relu,\n",
    "                           linear3, relu,\n",
    "                           linear4, relu,\n",
    "                           linear5, relu,\n",
    "                           linear6, relu,\n",
    "                           linear7, relu)\n",
    "\n",
    "print(model)"
   ]
  },
  {
   "cell_type": "code",
   "execution_count": 4,
   "metadata": {
    "scrolled": false
   },
   "outputs": [
    {
     "name": "stdout",
     "output_type": "stream",
     "text": [
      "[Epoch:    1] cost  = 1.31541109\n",
      "[Epoch:    2] cost  = 1.02358675\n",
      "[Epoch:    3] cost  = 0.968221605\n",
      "[Epoch:    4] cost  = 0.955327451\n",
      "[Epoch:    5] cost  = 0.756263256\n",
      "[Epoch:    6] cost  = 0.73022002\n",
      "[Epoch:    7] cost  = 0.719259977\n",
      "[Epoch:    8] cost  = 0.715397656\n",
      "[Epoch:    9] cost  = 0.710123122\n",
      "[Epoch:   10] cost  = 0.705459952\n",
      "[Epoch:   11] cost  = 0.70815748\n",
      "[Epoch:   12] cost  = 0.701890826\n",
      "[Epoch:   13] cost  = 0.703597307\n",
      "[Epoch:   14] cost  = 0.698832154\n",
      "[Epoch:   15] cost  = 0.700587809\n",
      "[Epoch:   16] cost  = 0.698678792\n",
      "[Epoch:   17] cost  = 0.69589746\n",
      "[Epoch:   18] cost  = 0.697372794\n",
      "[Epoch:   19] cost  = 0.694960117\n",
      "[Epoch:   20] cost  = 0.695709527\n",
      "[Epoch:   21] cost  = 0.694414854\n",
      "[Epoch:   22] cost  = 0.694808841\n",
      "[Epoch:   23] cost  = 0.692731917\n",
      "[Epoch:   24] cost  = 0.689353883\n",
      "[Epoch:   25] cost  = 0.693971515\n",
      "[Epoch:   26] cost  = 0.690849185\n",
      "[Epoch:   27] cost  = 0.691949368\n",
      "[Epoch:   28] cost  = 0.693308234\n",
      "[Epoch:   29] cost  = 0.694226027\n",
      "[Epoch:   30] cost  = 0.690946162\n",
      "Learning Finished~!#@\n"
     ]
    }
   ],
   "source": [
    "cost_func = torch.nn.CrossEntropyLoss()\n",
    "\n",
    "learning_rate = 0.001\n",
    "training_epochs = 30\n",
    "\n",
    "optimizer = torch.optim.Adam(model.parameters(), lr=learning_rate)\n",
    "\n",
    "for epoch in range(training_epochs):\n",
    "    avg_cost = 0\n",
    "    total_batch = len(mnist_train) // batch_size\n",
    "    \n",
    "    for i, (batch_images, batch_labels) in enumerate(data_loader):\n",
    "        \n",
    "        X = Variable(batch_images.view(-1, 28 * 28))\n",
    "        Y = Variable(batch_labels)\n",
    "        \n",
    "        optimizer.zero_grad()\n",
    "        Y_prediction = model(X)\n",
    "        cost = cost_func(Y_prediction, Y)\n",
    "        cost.backward()\n",
    "        optimizer.step()\n",
    "        \n",
    "        avg_cost += cost / total_batch\n",
    "        \n",
    "    print(\"[Epoch: {:>4}] cost  = {:>.9}\".format(epoch+1, avg_cost.data))\n",
    "    \n",
    "print('Learning Finished~!#@')"
   ]
  },
  {
   "cell_type": "code",
   "execution_count": 5,
   "metadata": {},
   "outputs": [
    {
     "name": "stdout",
     "output_type": "stream",
     "text": [
      "Accuracy test on the 10000 images : 79 %\n"
     ]
    }
   ],
   "source": [
    "#model.load_state_dict(torch.load('DNN.pkl'))\n",
    "\n",
    "correct = 0\n",
    "total = 0\n",
    "for images, labels in mnist_test:\n",
    "    images = Variable(images.view(-1,28*28))\n",
    "    outputs = model(images)\n",
    "    _, predicted = torch.max(outputs.data, 1)\n",
    "    total += 1\n",
    "    correct += (predicted == labels).sum()\n",
    "    \n",
    "print('Accuracy test on the 10000 images : %d %%'%(100 * correct/total))"
   ]
  },
  {
   "cell_type": "markdown",
   "metadata": {},
   "source": [
    "## Random Sample Test"
   ]
  },
  {
   "cell_type": "code",
   "execution_count": 6,
   "metadata": {},
   "outputs": [
    {
     "name": "stdout",
     "output_type": "stream",
     "text": [
      "Label :  tensor([3])\n",
      "Prediction :  tensor([3])\n"
     ]
    },
    {
     "name": "stderr",
     "output_type": "stream",
     "text": [
      "C:\\Users\\hwnau\\.conda\\envs\\cuda\\lib\\site-packages\\torchvision\\datasets\\mnist.py:58: UserWarning: test_data has been renamed data\n",
      "  warnings.warn(\"test_data has been renamed data\")\n",
      "C:\\Users\\hwnau\\.conda\\envs\\cuda\\lib\\site-packages\\torchvision\\datasets\\mnist.py:48: UserWarning: test_labels has been renamed targets\n",
      "  warnings.warn(\"test_labels has been renamed targets\")\n"
     ]
    },
    {
     "data": {
      "image/png": "[encoded data removed]",
      "text/plain": [
       "<Figure size 432x288 with 1 Axes>"
      ]
     },
     "metadata": {
      "needs_background": "light"
     },
     "output_type": "display_data"
    }
   ],
   "source": [
    "r = random.randint(0, len(mnist_test) -1)\n",
    "X_single_data = Variable(mnist_test.test_data[r:r + 1].view(-1,28 * 28).float())\n",
    "Y_single_data = Variable(mnist_test.test_labels[r:r + 1])\n",
    "\n",
    "single_prediction = model(X_single_data)\n",
    "\n",
    "print(\"Label : \", Y_single_data.data)\n",
    "print(\"Prediction : \", torch.max(single_prediction.data, 1)[1])\n",
    "\n",
    "plt.imshow(X_single_data.data.view(28,28).numpy(), cmap='gray')\n",
    "plt.show()"
   ]
  },
  {
   "cell_type": "code",
   "execution_count": 7,
   "metadata": {},
   "outputs": [],
   "source": [
    "torch.save(model.state_dict(), 'pkl/DNN.pkl')"
   ]
  }
 ],
 "metadata": {
  "kernelspec": {
   "display_name": "cuda",
   "language": "python",
   "name": "cuda"
  },
  "language_info": {
   "codemirror_mode": {
    "name": "ipython",
    "version": 3
   },
   "file_extension": ".py",
   "mimetype": "text/x-python",
   "name": "python",
   "nbconvert_exporter": "python",
   "pygments_lexer": "ipython3",
   "version": "3.6.9"
  }
 },
 "nbformat": 4,
 "nbformat_minor": 2
}
