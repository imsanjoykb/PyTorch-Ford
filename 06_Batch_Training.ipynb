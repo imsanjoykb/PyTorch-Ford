{
 "cells": [
  {
   "cell_type": "code",
   "execution_count": 1,
   "metadata": {},
   "outputs": [
    {
     "data": {
      "text/plain": [
       "<torch._C.Generator at 0x24454fa60f0>"
      ]
     },
     "execution_count": 1,
     "metadata": {},
     "output_type": "execute_result"
    }
   ],
   "source": [
    "import torch\n",
    "import torch.utils.data as Data\n",
    "\n",
    "torch.manual_seed(6)"
   ]
  },
  {
   "cell_type": "markdown",
   "metadata": {},
   "source": [
    "## Create Dataset"
   ]
  },
  {
   "cell_type": "code",
   "execution_count": 2,
   "metadata": {},
   "outputs": [
    {
     "data": {
      "text/plain": [
       "tensor([[ 1., 10.],\n",
       "        [ 2.,  9.],\n",
       "        [ 3.,  8.],\n",
       "        [ 4.,  7.],\n",
       "        [ 5.,  6.],\n",
       "        [ 6.,  5.],\n",
       "        [ 7.,  4.],\n",
       "        [ 8.,  3.],\n",
       "        [ 9.,  2.],\n",
       "        [10.,  1.]])"
      ]
     },
     "execution_count": 2,
     "metadata": {},
     "output_type": "execute_result"
    }
   ],
   "source": [
    "x = torch.linspace(1,10,10)\n",
    "y = torch.linspace(10,1,10)\n",
    "torch.cat((x.view(len(x),-1),y.view(len(y),-1)),1)"
   ]
  },
  {
   "cell_type": "code",
   "execution_count": 5,
   "metadata": {},
   "outputs": [],
   "source": [
    "dataset = Data.TensorDataset(x, y)"
   ]
  },
  {
   "cell_type": "markdown",
   "metadata": {},
   "source": [
    "## DataLoader"
   ]
  },
  {
   "cell_type": "code",
   "execution_count": 6,
   "metadata": {},
   "outputs": [],
   "source": [
    "BATCH_SIZE =  5\n",
    "\n",
    "loader = Data.DataLoader(\n",
    "    dataset=dataset,\n",
    "    batch_size=BATCH_SIZE,\n",
    "    shuffle=True,\n",
    "    num_workers=1,\n",
    ")"
   ]
  },
  {
   "cell_type": "code",
   "execution_count": 7,
   "metadata": {},
   "outputs": [
    {
     "name": "stdout",
     "output_type": "stream",
     "text": [
      "Epoch :  0 | Step 0 | batch x : [ 4.  1.  5.  2. 10.] | bactch y :  [ 7. 10.  6.  9.  1.]\n",
      "Epoch :  0 | Step 1 | batch x : [7. 6. 8. 3. 9.] | bactch y :  [4. 5. 3. 8. 2.]\n",
      "Epoch :  1 | Step 0 | batch x : [ 6.  9.  5.  3. 10.] | bactch y :  [5. 2. 6. 8. 1.]\n",
      "Epoch :  1 | Step 1 | batch x : [2. 1. 8. 4. 7.] | bactch y :  [ 9. 10.  3.  7.  4.]\n",
      "Epoch :  2 | Step 0 | batch x : [3. 6. 2. 1. 7.] | bactch y :  [ 8.  5.  9. 10.  4.]\n",
      "Epoch :  2 | Step 1 | batch x : [ 8.  4.  9. 10.  5.] | bactch y :  [3. 7. 2. 1. 6.]\n"
     ]
    }
   ],
   "source": [
    "for epoch in range(3):\n",
    "    for step, (batch_x, batch_y) in enumerate(loader):\n",
    "        print('Epoch : ',epoch,'| Step', step, '| batch x :', batch_x.numpy(), \"| bactch y : \",batch_y.numpy())"
   ]
  },
  {
   "cell_type": "code",
   "execution_count": 8,
   "metadata": {},
   "outputs": [
    {
     "name": "stdout",
     "output_type": "stream",
     "text": [
      "Epoch:  0 | Step:  0 | batch x:  [ 1. 10.  8.  2.  4.  3.  6.  9.] | batch y:  [10.  1.  3.  9.  7.  8.  5.  2.]\n",
      "Epoch:  0 | Step:  1 | batch x:  [7. 5.] | batch y:  [4. 6.]\n",
      "Epoch:  1 | Step:  0 | batch x:  [ 5.  8.  6.  2.  9.  3. 10.  7.] | batch y:  [6. 3. 5. 9. 2. 8. 1. 4.]\n",
      "Epoch:  1 | Step:  1 | batch x:  [4. 1.] | batch y:  [ 7. 10.]\n",
      "Epoch:  2 | Step:  0 | batch x:  [5. 3. 2. 6. 7. 1. 9. 4.] | batch y:  [ 6.  8.  9.  5.  4. 10.  2.  7.]\n",
      "Epoch:  2 | Step:  1 | batch x:  [ 8. 10.] | batch y:  [3. 1.]\n"
     ]
    }
   ],
   "source": [
    "BATCH_SIZE = 8\n",
    "\n",
    "loader = Data.DataLoader(\n",
    "    dataset=dataset,      # torch TensorDataset format\n",
    "    batch_size=BATCH_SIZE,      # mini batch size\n",
    "    shuffle=True,               # random shuffle for training\n",
    "    num_workers=1,              # subprocesses for loading data\n",
    ")\n",
    "\n",
    "for epoch in range(3):   # train entire dataset 3 times\n",
    "    for step, (batch_x, batch_y) in enumerate(loader):  # for each training step\n",
    "        \n",
    "        # train your data...\n",
    "        \n",
    "        print('Epoch: ', epoch, '| Step: ', step, '| batch x: ',\n",
    "              batch_x.numpy(), '| batch y: ', batch_y.numpy())"
   ]
  },
  {
   "cell_type": "markdown",
   "metadata": {},
   "source": [
    "## Create dataset from Image"
   ]
  },
  {
   "cell_type": "code",
   "execution_count": 9,
   "metadata": {},
   "outputs": [
    {
     "name": "stdout",
     "output_type": "stream",
     "text": [
      "['bird', 'mountain']\n",
      "{'bird': 0, 'mountain': 1}\n",
      "[('./images\\\\bird\\\\5f708a660eef3c4762c5a4a232f76db0.jpg', 0), ('./images\\\\bird\\\\c012c9fc6a99dcc00cfd89867f22a1c6.jpg', 0), ('./images\\\\mountain\\\\926c079396486b16944a44e6fa395bd6.jpg', 1), ('./images\\\\mountain\\\\b3e291f866f1c8754a5eb7fa51e72a0a.jpg', 1), ('./images\\\\mountain\\\\bd5fdf64757acb56a5c336f1e7bdbbb3.jpg', 1), ('./images\\\\mountain\\\\f7d40a84a44897f83ab8722254bd0551.jpg', 1)]\n"
     ]
    },
    {
     "name": "stderr",
     "output_type": "stream",
     "text": [
      "C:\\Users\\hwnau\\.conda\\envs\\cuda\\lib\\site-packages\\torchvision\\transforms\\transforms.py:694: UserWarning: The use of the transforms.RandomSizedCrop transform is deprecated, please use transforms.RandomResizedCrop instead.\n",
      "  \"please use transforms.RandomResizedCrop instead.\")\n"
     ]
    }
   ],
   "source": [
    "import torchvision\n",
    "import torchvision.datasets as dsets\n",
    "import torchvision.transforms as transforms\n",
    "\n",
    "img_dir = \"./images\"\n",
    "img_data = dsets.ImageFolder(img_dir, transforms.Compose([\n",
    "            transforms.RandomSizedCrop(224),\n",
    "            transforms.RandomHorizontalFlip(),\n",
    "            transforms.ToTensor(),\n",
    "            ]))\n",
    "\n",
    "print(img_data.classes)\n",
    "print(img_data.class_to_idx)\n",
    "print(img_data.imgs)"
   ]
  },
  {
   "cell_type": "markdown",
   "metadata": {},
   "source": [
    "## DataLoader"
   ]
  },
  {
   "cell_type": "code",
   "execution_count": 10,
   "metadata": {},
   "outputs": [
    {
     "name": "stdout",
     "output_type": "stream",
     "text": [
      "torch.Size([3, 3, 224, 224])\n",
      "tensor([1, 1, 1])\n",
      "torch.Size([3, 3, 224, 224])\n",
      "tensor([0, 0, 1])\n"
     ]
    }
   ],
   "source": [
    "loader = Data.DataLoader(img_data, batch_size=3,\n",
    "                            shuffle=True, num_workers=1)\n",
    "\n",
    "for img,label in loader:\n",
    "    print(img.size())\n",
    "    print(label)"
   ]
  },
  {
   "cell_type": "markdown",
   "metadata": {},
   "source": [
    "## Defined Dataset"
   ]
  },
  {
   "cell_type": "code",
   "execution_count": 11,
   "metadata": {
    "scrolled": true
   },
   "outputs": [
    {
     "name": "stderr",
     "output_type": "stream",
     "text": [
      "\r",
      "0it [00:00, ?it/s]"
     ]
    },
    {
     "name": "stdout",
     "output_type": "stream",
     "text": [
      "Downloading http://yann.lecun.com/exdb/mnist/train-images-idx3-ubyte.gz to ./data\\MNIST\\raw\\train-images-idx3-ubyte.gz\n"
     ]
    },
    {
     "name": "stderr",
     "output_type": "stream",
     "text": [
      "100%|██████████████████████████████████████████████████████████████████▋| 9863168/9912422 [00:16<00:00, 2471440.86it/s]"
     ]
    },
    {
     "name": "stdout",
     "output_type": "stream",
     "text": [
      "Extracting ./data\\MNIST\\raw\\train-images-idx3-ubyte.gz to ./data\\MNIST\\raw\n"
     ]
    },
    {
     "name": "stderr",
     "output_type": "stream",
     "text": [
      "\n",
      "0it [00:00, ?it/s]\u001b[A"
     ]
    },
    {
     "name": "stdout",
     "output_type": "stream",
     "text": [
      "Downloading http://yann.lecun.com/exdb/mnist/train-labels-idx1-ubyte.gz to ./data\\MNIST\\raw\\train-labels-idx1-ubyte.gz\n"
     ]
    },
    {
     "name": "stderr",
     "output_type": "stream",
     "text": [
      "\n",
      "  0%|                                                                                        | 0/28881 [00:00<?, ?it/s]\u001b[A\n",
      "32768it [00:00, 44255.63it/s]                                                                                          \u001b[A\n",
      "\n",
      "0it [00:00, ?it/s]\u001b[A"
     ]
    },
    {
     "name": "stdout",
     "output_type": "stream",
     "text": [
      "Extracting ./data\\MNIST\\raw\\train-labels-idx1-ubyte.gz to ./data\\MNIST\\raw\n",
      "Downloading http://yann.lecun.com/exdb/mnist/t10k-images-idx3-ubyte.gz to ./data\\MNIST\\raw\\t10k-images-idx3-ubyte.gz\n"
     ]
    },
    {
     "name": "stderr",
     "output_type": "stream",
     "text": [
      "\n",
      "  0%|                                                                                      | 0/1648877 [00:00<?, ?it/s]\u001b[A\n",
      "  1%|▋                                                                      | 16384/1648877 [00:00<00:30, 53049.91it/s]\u001b[A\n",
      "  3%|██                                                                     | 49152/1648877 [00:01<00:25, 62536.91it/s]\u001b[A\n",
      "  5%|███▉                                                                   | 90112/1648877 [00:01<00:24, 63763.98it/s]\u001b[A\n",
      "  8%|█████▉                                                                | 139264/1648877 [00:01<00:18, 81809.87it/s]\u001b[A\n",
      " 11%|███████▋                                                              | 180224/1648877 [00:02<00:15, 92329.03it/s]\u001b[A\n",
      " 13%|█████████▎                                                           | 221184/1648877 [00:02<00:12, 111277.12it/s]\u001b[A\n",
      " 16%|██████████▉                                                          | 262144/1648877 [00:02<00:10, 129789.82it/s]\u001b[A\n",
      " 19%|█████████████                                                        | 311296/1648877 [00:02<00:09, 146854.86it/s]\u001b[A\n",
      " 22%|███████████████                                                      | 360448/1648877 [00:03<00:08, 154400.49it/s]\u001b[A\n",
      " 25%|█████████████████▏                                                   | 409600/1648877 [00:03<00:09, 127964.98it/s]\u001b[A\n",
      " 29%|████████████████████▏                                                | 483328/1648877 [00:03<00:07, 148870.88it/s]\u001b[A\n",
      " 32%|█████████████████████▉                                               | 524288/1648877 [00:04<00:06, 163706.33it/s]\u001b[A\n",
      " 34%|███████████████████████▋                                             | 565248/1648877 [00:04<00:07, 150425.76it/s]\u001b[A\n",
      " 37%|█████████████████████████▎                                           | 606208/1648877 [00:04<00:07, 145369.04it/s]\u001b[A\n",
      " 39%|███████████████████████████                                          | 647168/1648877 [00:05<00:07, 141797.50it/s]\u001b[A\n",
      " 42%|████████████████████████████▊                                        | 688128/1648877 [00:05<00:07, 120493.42it/s]\u001b[A\n",
      " 46%|███████████████████████████████▉                                     | 761856/1648877 [00:05<00:05, 151748.31it/s]\u001b[A\n",
      " 48%|█████████████████████████████████▎                                   | 794624/1648877 [00:05<00:06, 141163.23it/s]\u001b[A\n",
      " 50%|██████████████████████████████████▌                                  | 827392/1648877 [00:06<00:06, 128747.27it/s]\u001b[A\n",
      " 53%|████████████████████████████████████▎                                | 868352/1648877 [00:06<00:06, 129979.69it/s]\u001b[A\n",
      " 55%|██████████████████████████████████████                               | 909312/1648877 [00:06<00:05, 130955.69it/s]\u001b[A\n",
      " 58%|███████████████████████████████████████▊                             | 950272/1648877 [00:07<00:05, 119565.90it/s]\u001b[A\n",
      " 60%|█████████████████████████████████████████▍                           | 991232/1648877 [00:07<00:06, 104142.45it/s]\u001b[A\n",
      " 65%|███████████████████████████████████████████▉                        | 1064960/1648877 [00:08<00:04, 125464.11it/s]\u001b[A\n",
      " 67%|█████████████████████████████████████████████▎                      | 1097728/1648877 [00:08<00:04, 119277.66it/s]\u001b[A\n",
      " 69%|██████████████████████████████████████████████▉                     | 1138688/1648877 [00:08<00:04, 123145.34it/s]\u001b[A\n",
      " 72%|████████████████████████████████████████████████▋                   | 1179648/1648877 [00:09<00:03, 126850.86it/s]\u001b[A\n",
      " 74%|██████████████████████████████████████████████████▎                 | 1220608/1648877 [00:09<00:02, 144049.85it/s]\u001b[A\n",
      " 77%|████████████████████████████████████████████████████                | 1261568/1648877 [00:09<00:02, 153956.68it/s]\u001b[A\n",
      " 79%|█████████████████████████████████████████████████████▋              | 1302528/1648877 [00:09<00:02, 147659.75it/s]\u001b[A\n",
      " 82%|███████████████████████████████████████████████████████▋            | 1351680/1648877 [00:10<00:01, 151161.15it/s]\u001b[A\n",
      " 84%|█████████████████████████████████████████████████████████▍          | 1392640/1648877 [00:10<00:01, 157761.26it/s]\u001b[A\n",
      " 87%|███████████████████████████████████████████████████████████▍        | 1441792/1648877 [00:10<00:01, 162419.99it/s]\u001b[A\n",
      " 90%|█████████████████████████████████████████████████████████████▏      | 1482752/1648877 [00:10<00:01, 152594.46it/s]\u001b[A\n",
      " 92%|██████████████████████████████████████████████████████████████▊     | 1523712/1648877 [00:11<00:00, 167155.69it/s]\u001b[A\n",
      " 95%|████████████████████████████████████████████████████████████████▊   | 1572864/1648877 [00:11<00:00, 162584.64it/s]\u001b[A\n",
      " 98%|██████████████████████████████████████████████████████████████████▌ | 1613824/1648877 [00:11<00:00, 174879.99it/s]\u001b[A\n",
      "\n",
      "0it [00:00, ?it/s]\u001b[A\u001b[A"
     ]
    },
    {
     "name": "stdout",
     "output_type": "stream",
     "text": [
      "Extracting ./data\\MNIST\\raw\\t10k-images-idx3-ubyte.gz to ./data\\MNIST\\raw\n",
      "Downloading http://yann.lecun.com/exdb/mnist/t10k-labels-idx1-ubyte.gz to ./data\\MNIST\\raw\\t10k-labels-idx1-ubyte.gz\n"
     ]
    },
    {
     "name": "stderr",
     "output_type": "stream",
     "text": [
      "\n",
      "\n",
      "8192it [00:00, 19335.86it/s]                                                                                           \u001b[A\u001b[A\n"
     ]
    },
    {
     "name": "stdout",
     "output_type": "stream",
     "text": [
      "Extracting ./data\\MNIST\\raw\\t10k-labels-idx1-ubyte.gz to ./data\\MNIST\\raw\n",
      "Processing...\n"
     ]
    },
    {
     "name": "stderr",
     "output_type": "stream",
     "text": [
      "\r",
      "9920512it [00:30, 2471440.86it/s]                                                                                      "
     ]
    },
    {
     "name": "stdout",
     "output_type": "stream",
     "text": [
      "Done!\n",
      "torch.Size([1, 28, 28])\n",
      "5\n"
     ]
    }
   ],
   "source": [
    "# MNIST Dataset \n",
    "train_dataset = dsets.MNIST(root='./data', \n",
    "                            train=True, \n",
    "                            transform=transforms.ToTensor(),  \n",
    "                            download=True)\n",
    "\n",
    "image, label = train_dataset[0]\n",
    "print (image.size())\n",
    "print (label)"
   ]
  },
  {
   "cell_type": "code",
   "execution_count": 12,
   "metadata": {},
   "outputs": [
    {
     "name": "stderr",
     "output_type": "stream",
     "text": [
      "\n",
      "1654784it [00:22, 174879.99it/s]                                                                                       \u001b[A"
     ]
    },
    {
     "data": {
      "text/plain": [
       "torch.Size([100, 1, 28, 28])"
      ]
     },
     "execution_count": 12,
     "metadata": {},
     "output_type": "execute_result"
    }
   ],
   "source": [
    "train_loader = torch.utils.data.DataLoader(dataset=train_dataset,\n",
    "                                          batch_size=100,\n",
    "                                          shuffle=True,\n",
    "                                          num_workers=2)\n",
    "\n",
    "data_iter = iter(train_loader)\n",
    "\n",
    "images, labels = data_iter.next()\n",
    "\n",
    "for images, labels in train_loader:\n",
    "    pass\n",
    "\n",
    "images.size()"
   ]
  },
  {
   "cell_type": "code",
   "execution_count": null,
   "metadata": {},
   "outputs": [],
   "source": [
    "# You should build custom dataset as below.\n",
    "class CustomDataset(Data.Dataset):\n",
    "    def __init__(self):\n",
    "        # TODO\n",
    "        # 1. Initialize file path or list of file names. \n",
    "        pass\n",
    "    def __getitem__(self, index):\n",
    "        # TODO\n",
    "        # 1. Read one data from file (e.g. using numpy.fromfile, PIL.Image.open).\n",
    "        # 2. Preprocess the data (e.g. torchvision.Transform).\n",
    "        # 3. Return a data pair (e.g. image and label).\n",
    "        pass\n",
    "    def __len__(self):\n",
    "        # You should change 0 to the total size of your dataset.\n",
    "        return 0 \n",
    "\n",
    "# Then, you can just use prebuilt torch's data loader. \n",
    "custom_dataset = CustomDataset()\n",
    "train_loader = Data.DataLoader(dataset=custom_dataset,\n",
    "                                           batch_size=100, \n",
    "                                           shuffle=True,\n",
    "                                           num_workers=2)"
   ]
  },
  {
   "cell_type": "code",
   "execution_count": 14,
   "metadata": {
    "scrolled": true
   },
   "outputs": [
    {
     "name": "stderr",
     "output_type": "stream",
     "text": [
      "Downloading: \"https://download.pytorch.org/models/resnet18-5c106cde.pth\" to C:\\Users\\hwnau/.cache\\torch\\checkpoints\\resnet18-5c106cde.pth\n",
      "\n",
      "\n",
      "  0%|                                                                                      | 0.00/44.7M [00:00<?, ?B/s]\u001b[A\u001b[A\n",
      "\n",
      "  2%|█▎                                                                            | 784k/44.7M [00:00<00:05, 7.97MB/s]\u001b[A\u001b[A\n",
      "\n",
      "  3%|██▍                                                                          | 1.44M/44.7M [00:00<00:05, 7.66MB/s]\u001b[A\u001b[A\n",
      "\n",
      "  5%|███▊                                                                         | 2.19M/44.7M [00:00<00:05, 7.68MB/s]\u001b[A\u001b[A\n",
      "\n",
      "  7%|█████                                                                        | 2.95M/44.7M [00:00<00:05, 7.71MB/s]\u001b[A\u001b[A\n",
      "\n",
      "  9%|██████▋                                                                      | 3.88M/44.7M [00:00<00:05, 8.22MB/s]\u001b[A\u001b[A\n",
      "\n",
      " 11%|████████▏                                                                    | 4.73M/44.7M [00:00<00:05, 8.31MB/s]\u001b[A\u001b[A\n",
      "\n",
      " 13%|█████████▉                                                                   | 5.75M/44.7M [00:00<00:04, 8.88MB/s]\u001b[A\u001b[A\n",
      "\n",
      " 15%|███████████▌                                                                 | 6.67M/44.7M [00:00<00:04, 9.09MB/s]\u001b[A\u001b[A\n",
      "\n",
      " 17%|████████████▉                                                                | 7.51M/44.7M [00:00<00:04, 8.91MB/s]\u001b[A\u001b[A\n",
      "\n",
      " 19%|██████████████▎                                                              | 8.34M/44.7M [00:01<00:04, 8.78MB/s]\u001b[A\u001b[A\n",
      "\n",
      " 21%|███████████████▊                                                             | 9.20M/44.7M [00:01<00:04, 8.79MB/s]\u001b[A\u001b[A\n",
      "\n",
      " 23%|█████████████████▍                                                           | 10.1M/44.7M [00:01<00:04, 8.71MB/s]\u001b[A\u001b[A\n",
      "\n",
      " 24%|██████████████████▊                                                          | 10.9M/44.7M [00:01<00:04, 8.56MB/s]\u001b[A\u001b[A\n",
      "\n",
      " 26%|████████████████████▎                                                        | 11.8M/44.7M [00:01<00:03, 8.71MB/s]\u001b[A\u001b[A\n",
      "\n",
      " 28%|█████████████████████▊                                                       | 12.6M/44.7M [00:01<00:03, 8.70MB/s]\u001b[A\u001b[A\n",
      "\n",
      " 30%|███████████████████████▎                                                     | 13.5M/44.7M [00:01<00:03, 8.88MB/s]\u001b[A\u001b[A\n",
      "\n",
      " 32%|████████████████████████▊                                                    | 14.4M/44.7M [00:01<00:03, 8.67MB/s]\u001b[A\u001b[A\n",
      "\n",
      " 34%|██████████████████████████▏                                                  | 15.2M/44.7M [00:01<00:03, 8.37MB/s]\u001b[A\u001b[A\n",
      "\n",
      " 36%|███████████████████████████▊                                                 | 16.1M/44.7M [00:01<00:03, 8.66MB/s]\u001b[A\u001b[A\n",
      "\n",
      " 38%|█████████████████████████████▍                                               | 17.1M/44.7M [00:02<00:03, 9.00MB/s]\u001b[A\u001b[A\n",
      "\n",
      " 40%|██████████████████████████████▉                                              | 18.0M/44.7M [00:02<00:03, 9.05MB/s]\u001b[A\u001b[A\n",
      "\n",
      " 43%|████████████████████████████████▊                                            | 19.0M/44.7M [00:02<00:02, 9.53MB/s]\u001b[A\u001b[A\n",
      "\n",
      " 45%|██████████████████████████████████▌                                          | 20.0M/44.7M [00:02<00:02, 9.71MB/s]\u001b[A\u001b[A\n",
      "\n",
      " 47%|████████████████████████████████████▏                                        | 21.0M/44.7M [00:02<00:02, 9.45MB/s]\u001b[A\u001b[A\n",
      "\n",
      " 49%|█████████████████████████████████████▋                                       | 21.9M/44.7M [00:02<00:02, 9.28MB/s]\u001b[A\u001b[A\n",
      "\n",
      " 51%|███████████████████████████████████████▎                                     | 22.8M/44.7M [00:02<00:02, 9.31MB/s]\u001b[A\u001b[A\n",
      "\n",
      " 53%|████████████████████████████████████████▊                                    | 23.7M/44.7M [00:02<00:02, 9.22MB/s]\u001b[A\u001b[A\n",
      "\n",
      " 55%|██████████████████████████████████████████▎                                  | 24.5M/44.7M [00:02<00:02, 8.86MB/s]\u001b[A\u001b[A\n",
      "\n",
      " 57%|███████████████████████████████████████████▉                                 | 25.5M/44.7M [00:03<00:02, 9.01MB/s]\u001b[A\u001b[A\n",
      "\n",
      " 59%|█████████████████████████████████████████████▍                               | 26.3M/44.7M [00:03<00:02, 8.96MB/s]\u001b[A\u001b[A\n",
      "\n",
      " 61%|██████████████████████████████████████████████▉                              | 27.2M/44.7M [00:03<00:02, 8.98MB/s]\u001b[A\u001b[A\n",
      "\n",
      " 63%|████████████████████████████████████████████████▍                            | 28.1M/44.7M [00:03<00:01, 8.95MB/s]\u001b[A\u001b[A\n",
      "\n",
      " 65%|█████████████████████████████████████████████████▉                           | 28.9M/44.7M [00:03<00:01, 8.50MB/s]\u001b[A\u001b[A\n",
      "\n",
      " 67%|███████████████████████████████████████████████████▍                         | 29.8M/44.7M [00:03<00:01, 8.62MB/s]\u001b[A\u001b[A\n",
      "\n",
      " 69%|█████████████████████████████████████████████████████                        | 30.8M/44.7M [00:03<00:01, 8.90MB/s]\u001b[A\u001b[A\n",
      "\n",
      " 71%|██████████████████████████████████████████████████████▌                      | 31.6M/44.7M [00:03<00:01, 8.82MB/s]\u001b[A\u001b[A\n",
      "\n",
      " 73%|████████████████████████████████████████████████████████                     | 32.5M/44.7M [00:03<00:01, 9.07MB/s]\u001b[A\u001b[A\n",
      "\n",
      " 75%|█████████████████████████████████████████████████████████▌                   | 33.4M/44.7M [00:03<00:01, 8.14MB/s]\u001b[A\u001b[A\n",
      "\n",
      " 77%|███████████████████████████████████████████████████████████▏                 | 34.3M/44.7M [00:04<00:01, 8.52MB/s]\u001b[A\u001b[A\n",
      "\n",
      " 79%|████████████████████████████████████████████████████████████▋                | 35.2M/44.7M [00:04<00:01, 8.54MB/s]\u001b[A\u001b[A\n",
      "\n",
      " 81%|██████████████████████████████████████████████████████████████               | 36.0M/44.7M [00:04<00:01, 8.45MB/s]\u001b[A\u001b[A\n",
      "\n",
      " 83%|███████████████████████████████████████████████████████████████▊             | 37.0M/44.7M [00:04<00:00, 8.86MB/s]\u001b[A\u001b[A\n",
      "\n",
      " 85%|█████████████████████████████████████████████████████████████████▎           | 37.9M/44.7M [00:04<00:00, 9.06MB/s]\u001b[A\u001b[A\n",
      "\n",
      " 87%|██████████████████████████████████████████████████████████████████▉          | 38.8M/44.7M [00:04<00:00, 9.23MB/s]\u001b[A\u001b[A\n",
      "\n",
      " 89%|████████████████████████████████████████████████████████████████████▍        | 39.7M/44.7M [00:04<00:00, 8.91MB/s]\u001b[A\u001b[A\n",
      "\n",
      " 91%|█████████████████████████████████████████████████████████████████████▉       | 40.6M/44.7M [00:04<00:00, 8.96MB/s]\u001b[A\u001b[A\n",
      "\n",
      " 93%|███████████████████████████████████████████████████████████████████████▍     | 41.4M/44.7M [00:04<00:00, 8.72MB/s]\u001b[A\u001b[A\n",
      "\n",
      " 95%|████████████████████████████████████████████████████████████████████████▉    | 42.3M/44.7M [00:05<00:00, 8.91MB/s]\u001b[A\u001b[A\n",
      "\n",
      " 97%|██████████████████████████████████████████████████████████████████████████▍  | 43.2M/44.7M [00:05<00:00, 8.91MB/s]\u001b[A\u001b[A\n",
      "\n",
      "100%|█████████████████████████████████████████████████████████████████████████████| 44.7M/44.7M [00:05<00:00, 8.85MB/s]\u001b[A\u001b[A\n"
     ]
    },
    {
     "name": "stdout",
     "output_type": "stream",
     "text": [
      "torch.Size([10, 100])\n"
     ]
    }
   ],
   "source": [
    "#========================== Using pretrained model ==========================#\n",
    "# Download and load pretrained resnet.\n",
    "resnet = torchvision.models.resnet18(pretrained=True)\n",
    "\n",
    "# If you want to finetune only top layer of the model.\n",
    "for param in resnet.parameters():\n",
    "    param.requires_grad = False\n",
    "    \n",
    "# Replace top layer for finetuning.\n",
    "resnet.fc = torch.nn.Linear(resnet.fc.in_features, 100)  # 100 is for example.\n",
    "\n",
    "# For test.\n",
    "images = torch.autograd.Variable(torch.randn(10, 3, 256, 256))\n",
    "outputs = resnet(images)\n",
    "print (outputs.size())   # (10, 100)"
   ]
  },
  {
   "cell_type": "code",
   "execution_count": null,
   "metadata": {
    "collapsed": true
   },
   "outputs": [],
   "source": []
  }
 ],
 "metadata": {
  "kernelspec": {
   "display_name": "cuda",
   "language": "python",
   "name": "cuda"
  }
 },
 "nbformat": 4,
 "nbformat_minor": 2
}
